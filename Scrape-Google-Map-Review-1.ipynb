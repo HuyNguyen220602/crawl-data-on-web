{
 "cells": [
  {
   "cell_type": "code",
   "execution_count": 1,
   "id": "53ed3bb6",
   "metadata": {},
   "outputs": [],
   "source": [
    "from selenium import webdriver\n",
    "from webdriver_manager.chrome import ChromeDriverManager\n",
    "from selenium.webdriver.chrome.options import Options\n",
    "\n",
    "chrome_options = Options()\n",
    "chrome_options.add_argument(\"--lang=vi\")\n",
    "driver = webdriver.Chrome(ChromeDriverManager().install(), options=chrome_options)"
   ]
  },
  {
   "cell_type": "code",
   "execution_count": 2,
   "id": "d7394dce",
   "metadata": {},
   "outputs": [],
   "source": [
    "url = 'https://www.google.com/maps/place/University+Medical+Center/@10.7552399,106.6644707,17z/data=!3m1!4b1!4m6!3m5!1s0x31752efa87dc6d6d:0x4feb0a1e755b6d62!8m2!3d10.7552399!4d106.6644707!16s%2Fg%2F11g6mdmpzh'\n",
    "driver.get(url)"
   ]
  },
  {
   "cell_type": "code",
   "execution_count": 3,
   "id": "262c531e",
   "metadata": {},
   "outputs": [],
   "source": [
    "driver.find_element_by_xpath('//*[@id=\"QA0Szd\"]/div/div/div[1]/div[2]/div/div[1]/div/div/div[3]/div/div/button[2]').click()\n",
    "#to make sure content is fully loaded we can use time.sleep() after navigating to each page\n",
    "import time\n",
    "\n",
    "time.sleep(1)"
   ]
  },
  {
   "cell_type": "code",
   "execution_count": null,
   "id": "51405c5d",
   "metadata": {},
   "outputs": [
    {
     "name": "stdout",
     "output_type": "stream",
     "text": [
      "1,771\n"
     ]
    }
   ],
   "source": [
    "total_number_of_reviews = driver.find_element_by_xpath('//*[@id=\"QA0Szd\"]/div/div/div[1]/div[2]/div/div[1]/div/div/div[3]/div[2]/div/div[2]/div[2]').text.split(\" \")[0]\n",
    "print(total_number_of_reviews)\n",
    "total_number_of_reviews = int(total_number_of_reviews.replace(',','')) if ',' in total_number_of_reviews else int(total_number_of_reviews)\n",
    "\n",
    "#Find scroll layout\n",
    "scrollable_div = driver.find_element_by_xpath('//*[@id=\"QA0Szd\"]/div/div/div[1]/div[2]/div/div[1]/div/div/div[3]')\n",
    "#Scroll as many times as necessary to load all reviews\n",
    "for _ in range(0, total_number_of_reviews, 10):\n",
    "    count = 10\n",
    "    while count > 0:\n",
    "        try:\n",
    "            driver.find_element_by_xpath(\"//button[contains(@aria-label,'More')]\").click()\n",
    "            time.sleep(2)\n",
    "        except Exception as e:\n",
    "            pass\n",
    "        count -= 1\n",
    "        \n",
    "    driver.execute_script('arguments[0].scrollTop = arguments[0].scrollHeight', scrollable_div)\n",
    "    time.sleep(20)"
   ]
  },
  {
   "cell_type": "code",
   "execution_count": null,
   "id": "aef11b11",
   "metadata": {},
   "outputs": [],
   "source": [
    "from bs4 import BeautifulSoup\n",
    "\n",
    "def get_review_summary(result_set):\n",
    "    rev_dict = {\n",
    "        'Review Time': [],\n",
    "        'Review Text' : [],\n",
    "        'Review Rate': [],}\n",
    "    for result in result_set:\n",
    "\n",
    "        review_rate = result.find('span', class_='kvMYJc')[\"aria-label\"]\n",
    "        review_time = result.find('span', class_=\"rsqaWe\").text.strip()\n",
    "        review_text = result.find('span',class_='wiI7pd')\n",
    "    \n",
    "        if review_text is None:\n",
    "            rev_dict['Review Text'].append('')\n",
    "        else:\n",
    "            rev_dict['Review Text'].append(review_text.text.strip())\n",
    "        \n",
    "        rev_dict[\"Review Time\"].append(review_time)\n",
    "        \n",
    "        rev_dict['Review Rate'].append(review_rate)\n",
    "    return rev_dict"
   ]
  },
  {
   "cell_type": "code",
   "execution_count": null,
   "id": "455c43d8",
   "metadata": {},
   "outputs": [],
   "source": [
    "import pandas as pd\n",
    "response = BeautifulSoup(driver.page_source, 'html.parser')\n",
    "reviews = response.find_all('div', class_='jftiEf')\n",
    "rev_dict = get_review_summary(reviews)"
   ]
  },
  {
   "cell_type": "code",
   "execution_count": null,
   "id": "3deb7a9b",
   "metadata": {},
   "outputs": [],
   "source": [
    "print(len(rev_dict[\"Review Text\"]))"
   ]
  },
  {
   "cell_type": "code",
   "execution_count": null,
   "id": "15276062",
   "metadata": {},
   "outputs": [],
   "source": [
    "df = pd.DataFrame.from_dict(rev_dict)\n",
    "df.columns = [\"Time\", \"Review Text\", \"Rating\"]"
   ]
  },
  {
   "cell_type": "code",
   "execution_count": null,
   "id": "da5ee396",
   "metadata": {},
   "outputs": [],
   "source": [
    "df.to_csv(\"DHYD-review.csv\")"
   ]
  },
  {
   "cell_type": "code",
   "execution_count": null,
   "id": "7a50715f",
   "metadata": {},
   "outputs": [],
   "source": [
    "pd.read_csv(\"DHYD-review.csv\", index_col=\"Unnamed: 0\")"
   ]
  },
  {
   "cell_type": "code",
   "execution_count": null,
   "id": "c899b48b",
   "metadata": {},
   "outputs": [],
   "source": []
  }
 ],
 "metadata": {
  "kernelspec": {
   "display_name": "Python 3 (ipykernel)",
   "language": "python",
   "name": "python3"
  },
  "language_info": {
   "codemirror_mode": {
    "name": "ipython",
    "version": 3
   },
   "file_extension": ".py",
   "mimetype": "text/x-python",
   "name": "python",
   "nbconvert_exporter": "python",
   "pygments_lexer": "ipython3",
   "version": "3.10.10"
  }
 },
 "nbformat": 4,
 "nbformat_minor": 5
}
