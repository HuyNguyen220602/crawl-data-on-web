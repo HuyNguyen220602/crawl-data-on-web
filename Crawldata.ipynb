{
 "cells": [
  {
   "cell_type": "code",
   "execution_count": 6,
   "id": "53ed3bb6",
   "metadata": {},
   "outputs": [
    {
     "name": "stderr",
     "output_type": "stream",
     "text": [
      "C:\\Users\\NguyenDucHuy\\AppData\\Local\\Temp\\ipykernel_23292\\3157166033.py:11: DeprecationWarning: Selenium Tools for Microsoft Edge is deprecated. Please upgrade to Selenium 4 which has built-in support for Microsoft Edge (Chromium): https://docs.microsoft.com/en-us/microsoft-edge/webdriver-chromium/#upgrading-from-selenium-3\n",
      "  driver = Edge(executable_path=driver_path, options=options)\n"
     ]
    }
   ],
   "source": [
    "from selenium import webdriver\n",
    "from msedge.selenium_tools import options as EdgeOptions\n",
    "from msedge.selenium_tools import Edge, EdgeOptions\n",
    "import time \n",
    "\n",
    "def url(url, driver_path):\n",
    "    options = EdgeOptions()\n",
    "    options.add_argument(\"--lang=vi\")\n",
    "\n",
    "    # Create a Microsoft Edge WebDriver instance with options\n",
    "    driver = Edge(executable_path=driver_path, options=options)\n",
    "\n",
    "    driver.get(url)\n",
    "\n",
    "    # Add your code here to perform actions on the webpage\n",
    "\n",
    "    time.sleep(2)\n",
    "\n",
    "    return driver   \n",
    "    \n",
    "# Set the desired URL and driver path\n",
    "desired_url = \"https://www.google.com/maps/place/B%E1%BB%87nh+vi%E1%BB%87n+Nhi+%C4%90%E1%BB%93ng+2/@10.7808477,106.6997441,17z/data=!4m8!3m7!1s0x31752f49a8134407:0x8b3ac844e0a002a4!8m2!3d10.7808424!4d106.702319!9m1!1b1!16s%2Fg%2F1v8w_p4f?entry=ttu\"\n",
    "desired_driver_path = 'C:\\Program Files (x86)\\Microsoft\\Edge\\Application\\msedgedriver.exe'\n",
    "\n",
    "# Call the function with the desired URL and driver path\n",
    "driver = url(desired_url, desired_driver_path)"
   ]
  },
  {
   "cell_type": "code",
   "execution_count": 7,
   "id": "161e1801",
   "metadata": {},
   "outputs": [
    {
     "name": "stdout",
     "output_type": "stream",
     "text": [
      "Children's Hospital 2 - Google Maps\n"
     ]
    }
   ],
   "source": [
    "print(driver.title)"
   ]
  },
  {
   "cell_type": "code",
   "execution_count": 8,
   "id": "51405c5d",
   "metadata": {},
   "outputs": [
    {
     "name": "stdout",
     "output_type": "stream",
     "text": [
      "1,446\n"
     ]
    }
   ],
   "source": [
    "total_number_of_reviews = driver.find_element_by_xpath('//*[@id=\"QA0Szd\"]/div/div/div[1]/div[2]/div/div[1]/div/div/div[3]/div[2]/div/div[2]/div[2]').text.split(\" \")[0]\n",
    "print(total_number_of_reviews)\n",
    "total_number_of_reviews = int(total_number_of_reviews.replace(',','')) if ',' in total_number_of_reviews else int(total_number_of_reviews)"
   ]
  },
  {
   "cell_type": "code",
   "execution_count": 9,
   "id": "ac1681c8",
   "metadata": {},
   "outputs": [
    {
     "name": "stdout",
     "output_type": "stream",
     "text": [
      "Desired element count (900) reached.\n"
     ]
    }
   ],
   "source": [
    "import time\n",
    "from selenium.webdriver.common.by import By\n",
    "from selenium.webdriver.support.ui import WebDriverWait\n",
    "from selenium.webdriver.support import expected_conditions as EC\n",
    "\n",
    "SCROLL_PAUSE_TIME = 2\n",
    "MAX_WAIT_TIME_SECONDS = 100\n",
    "TARGET_ELEMENT_COUNT = 900\n",
    "\n",
    "scrollable_div = driver.find_element_by_xpath('//*[@id=\"QA0Szd\"]/div/div/div[1]/div[2]/div/div[1]/div/div/div[3]')\n",
    "\n",
    "# Get scroll height\n",
    "last_height = driver.execute_script(\"return arguments[0].scrollHeight\", scrollable_div)\n",
    "\n",
    "start_time = time.time()\n",
    "while True:\n",
    "    # Scroll down to bottom\n",
    "    driver.execute_script(\"arguments[0].scrollTop = arguments[0].scrollHeight\", scrollable_div)\n",
    "\n",
    "    # Wait to load page\n",
    "    time.sleep(SCROLL_PAUSE_TIME)\n",
    "\n",
    "    # Check if the desired number of elements is reached\n",
    "    elements = driver.find_elements_by_css_selector('.wiI7pd')\n",
    "    if len(elements) >= TARGET_ELEMENT_COUNT:\n",
    "        print(f\"Desired element count ({TARGET_ELEMENT_COUNT}) reached.\")\n",
    "        break\n",
    "\n",
    "    # Check if the script has been running for more than 10 seconds\n",
    "    # if time.time() - start_time > MAX_WAIT_TIME_SECONDS:\n",
    "    #    print(\"Timeout: Script running for more than 100 seconds.\")\n",
    "    #    break"
   ]
  },
  {
   "cell_type": "code",
   "execution_count": 10,
   "id": "a1c464ae",
   "metadata": {},
   "outputs": [
    {
     "name": "stdout",
     "output_type": "stream",
     "text": [
      "Error occurred while clicking 'See more' button: Message: stale element reference: stale element not found\n",
      "  (Session info: MicrosoftEdge=114.0.1823.79)\n",
      "\n",
      "Error occurred while clicking 'See more' button: 'NoneType' object has no attribute 'is_displayed'\n"
     ]
    },
    {
     "ename": "NoSuchWindowException",
     "evalue": "Message: no such window: target window already closed\nfrom unknown error: web view not found\n  (Session info: MicrosoftEdge=114.0.1823.79)\n",
     "output_type": "error",
     "traceback": [
      "\u001b[1;31m---------------------------------------------------------------------------\u001b[0m",
      "\u001b[1;31mNoSuchWindowException\u001b[0m                     Traceback (most recent call last)",
      "Cell \u001b[1;32mIn[10], line 15\u001b[0m\n\u001b[0;32m     13\u001b[0m \u001b[39mfor\u001b[39;00m button \u001b[39min\u001b[39;00m see_more_buttons:\n\u001b[0;32m     14\u001b[0m     actions \u001b[39m=\u001b[39m ActionChains(driver)\n\u001b[1;32m---> 15\u001b[0m     actions\u001b[39m.\u001b[39;49mmove_to_element(button)\u001b[39m.\u001b[39;49mperform()\n\u001b[0;32m     16\u001b[0m     \u001b[39mtry\u001b[39;00m:\n\u001b[0;32m     17\u001b[0m         \u001b[39m# Sử dụng WebDriverWait để chờ lâu hơn và tìm element theo CSS_SELECTOR\u001b[39;00m\n\u001b[0;32m     18\u001b[0m         WebDriverWait(driver, \u001b[39m10\u001b[39m)\u001b[39m.\u001b[39muntil(EC\u001b[39m.\u001b[39melement_to_be_clickable((By\u001b[39m.\u001b[39mCSS_SELECTOR, \u001b[39m'\u001b[39m\u001b[39m[aria-label=\u001b[39m\u001b[39m\"\u001b[39m\u001b[39mSee more\u001b[39m\u001b[39m\"\u001b[39m\u001b[39m]\u001b[39m\u001b[39m'\u001b[39m)))\u001b[39m.\u001b[39mclick()\n",
      "File \u001b[1;32md:\\File python\\lib\\site-packages\\selenium\\webdriver\\common\\action_chains.py:80\u001b[0m, in \u001b[0;36mActionChains.perform\u001b[1;34m(self)\u001b[0m\n\u001b[0;32m     76\u001b[0m \u001b[39m\u001b[39m\u001b[39m\"\"\"\u001b[39;00m\n\u001b[0;32m     77\u001b[0m \u001b[39mPerforms all stored actions.\u001b[39;00m\n\u001b[0;32m     78\u001b[0m \u001b[39m\"\"\"\u001b[39;00m\n\u001b[0;32m     79\u001b[0m \u001b[39mif\u001b[39;00m \u001b[39mself\u001b[39m\u001b[39m.\u001b[39m_driver\u001b[39m.\u001b[39mw3c:\n\u001b[1;32m---> 80\u001b[0m     \u001b[39mself\u001b[39;49m\u001b[39m.\u001b[39;49mw3c_actions\u001b[39m.\u001b[39;49mperform()\n\u001b[0;32m     81\u001b[0m \u001b[39melse\u001b[39;00m:\n\u001b[0;32m     82\u001b[0m     \u001b[39mfor\u001b[39;00m action \u001b[39min\u001b[39;00m \u001b[39mself\u001b[39m\u001b[39m.\u001b[39m_actions:\n",
      "File \u001b[1;32md:\\File python\\lib\\site-packages\\selenium\\webdriver\\common\\actions\\action_builder.py:76\u001b[0m, in \u001b[0;36mActionBuilder.perform\u001b[1;34m(self)\u001b[0m\n\u001b[0;32m     74\u001b[0m     \u001b[39mif\u001b[39;00m encoded[\u001b[39m'\u001b[39m\u001b[39mactions\u001b[39m\u001b[39m'\u001b[39m]:\n\u001b[0;32m     75\u001b[0m         enc[\u001b[39m\"\u001b[39m\u001b[39mactions\u001b[39m\u001b[39m\"\u001b[39m]\u001b[39m.\u001b[39mappend(encoded)\n\u001b[1;32m---> 76\u001b[0m \u001b[39mself\u001b[39;49m\u001b[39m.\u001b[39;49mdriver\u001b[39m.\u001b[39;49mexecute(Command\u001b[39m.\u001b[39;49mW3C_ACTIONS, enc)\n",
      "File \u001b[1;32md:\\File python\\lib\\site-packages\\selenium\\webdriver\\remote\\webdriver.py:321\u001b[0m, in \u001b[0;36mWebDriver.execute\u001b[1;34m(self, driver_command, params)\u001b[0m\n\u001b[0;32m    319\u001b[0m response \u001b[39m=\u001b[39m \u001b[39mself\u001b[39m\u001b[39m.\u001b[39mcommand_executor\u001b[39m.\u001b[39mexecute(driver_command, params)\n\u001b[0;32m    320\u001b[0m \u001b[39mif\u001b[39;00m response:\n\u001b[1;32m--> 321\u001b[0m     \u001b[39mself\u001b[39;49m\u001b[39m.\u001b[39;49merror_handler\u001b[39m.\u001b[39;49mcheck_response(response)\n\u001b[0;32m    322\u001b[0m     response[\u001b[39m'\u001b[39m\u001b[39mvalue\u001b[39m\u001b[39m'\u001b[39m] \u001b[39m=\u001b[39m \u001b[39mself\u001b[39m\u001b[39m.\u001b[39m_unwrap_value(\n\u001b[0;32m    323\u001b[0m         response\u001b[39m.\u001b[39mget(\u001b[39m'\u001b[39m\u001b[39mvalue\u001b[39m\u001b[39m'\u001b[39m, \u001b[39mNone\u001b[39;00m))\n\u001b[0;32m    324\u001b[0m     \u001b[39mreturn\u001b[39;00m response\n",
      "File \u001b[1;32md:\\File python\\lib\\site-packages\\selenium\\webdriver\\remote\\errorhandler.py:242\u001b[0m, in \u001b[0;36mErrorHandler.check_response\u001b[1;34m(self, response)\u001b[0m\n\u001b[0;32m    240\u001b[0m         alert_text \u001b[39m=\u001b[39m value[\u001b[39m'\u001b[39m\u001b[39malert\u001b[39m\u001b[39m'\u001b[39m]\u001b[39m.\u001b[39mget(\u001b[39m'\u001b[39m\u001b[39mtext\u001b[39m\u001b[39m'\u001b[39m)\n\u001b[0;32m    241\u001b[0m     \u001b[39mraise\u001b[39;00m exception_class(message, screen, stacktrace, alert_text)\n\u001b[1;32m--> 242\u001b[0m \u001b[39mraise\u001b[39;00m exception_class(message, screen, stacktrace)\n",
      "\u001b[1;31mNoSuchWindowException\u001b[0m: Message: no such window: target window already closed\nfrom unknown error: web view not found\n  (Session info: MicrosoftEdge=114.0.1823.79)\n"
     ]
    }
   ],
   "source": [
    "from selenium.webdriver.common.by import By\n",
    "from selenium.webdriver.common.action_chains import ActionChains\n",
    "from selenium.webdriver.support.ui import WebDriverWait\n",
    "from selenium.webdriver.support import expected_conditions as EC\n",
    "import time\n",
    "\n",
    "# Xác định các nút \"See more\"\n",
    "see_more_buttons = driver.find_elements(By.CSS_SELECTOR, '[aria-label=\"See more\"]')\n",
    "clicked_see_more = False  # Biến đánh dấu đã nhấp vào nút \"See more\" hay chưa\n",
    "\n",
    "while see_more_buttons or not clicked_see_more:\n",
    "    clicked_see_more = False  # Đặt lại giá trị của biến đánh dấu\n",
    "    for button in see_more_buttons:\n",
    "        actions = ActionChains(driver)\n",
    "        actions.move_to_element(button).perform()\n",
    "        try:\n",
    "            # Sử dụng WebDriverWait để chờ lâu hơn và tìm element theo CSS_SELECTOR\n",
    "            WebDriverWait(driver, 10).until(EC.element_to_be_clickable((By.CSS_SELECTOR, '[aria-label=\"See more\"]'))).click()\n",
    "            clicked_see_more = True  # Đánh dấu đã nhấp vào nút \"See more\"\n",
    "            time.sleep(2)\n",
    "        except Exception as e:\n",
    "            # Ghi log lỗi ra để kiểm tra\n",
    "            print(\"Error occurred while clicking 'See more' button:\", str(e))\n",
    "\n",
    "    # Cập nhật danh sách nút \"See more\" sau khi nhấp vào\n",
    "    see_more_buttons = driver.find_elements(By.CSS_SELECTOR, '[aria-label=\"See more\"]')"
   ]
  },
  {
   "cell_type": "code",
   "execution_count": null,
   "id": "aef11b11",
   "metadata": {},
   "outputs": [],
   "source": [
    "from bs4 import BeautifulSoup\n",
    "\n",
    "def get_review_summary(result_set):\n",
    "    rev_dict = {\n",
    "        'Review Time': [],\n",
    "        'Review Text' : [],\n",
    "        'Review Rate': [],}\n",
    "    for result in result_set:\n",
    "\n",
    "        review_rate = result.find('span', class_='kvMYJc')[\"aria-label\"]\n",
    "        review_time = result.find('span', class_=\"rsqaWe\").text.strip()\n",
    "        review_text = result.find('span',class_='wiI7pd')\n",
    "    \n",
    "        if review_text is None:\n",
    "            rev_dict['Review Text'].append('')\n",
    "        else:\n",
    "            rev_dict['Review Text'].append(review_text.text.strip())\n",
    "        \n",
    "        rev_dict[\"Review Time\"].append(review_time)\n",
    "        \n",
    "        rev_dict['Review Rate'].append(review_rate)\n",
    "    return rev_dict"
   ]
  },
  {
   "cell_type": "code",
   "execution_count": null,
   "id": "455c43d8",
   "metadata": {},
   "outputs": [],
   "source": [
    "import pandas as pd\n",
    "response = BeautifulSoup(driver.page_source, 'html.parser')\n",
    "reviews = response.find_all('div', class_='jftiEf')\n",
    "rev_dict = get_review_summary(reviews)"
   ]
  },
  {
   "cell_type": "code",
   "execution_count": null,
   "id": "3deb7a9b",
   "metadata": {},
   "outputs": [],
   "source": [
    "print(len(rev_dict[\"Review Text\"]))"
   ]
  },
  {
   "cell_type": "code",
   "execution_count": null,
   "id": "15276062",
   "metadata": {},
   "outputs": [],
   "source": [
    "df = pd.DataFrame.from_dict(rev_dict)\n",
    "df.columns = [\"Time\", \"Review Text\", \"Rating\"]"
   ]
  },
  {
   "cell_type": "code",
   "execution_count": null,
   "id": "da5ee396",
   "metadata": {},
   "outputs": [],
   "source": [
    "df.to_csv(\"BVNHIDONG2-review.csv\", encoding='utf-8-sig')"
   ]
  },
  {
   "cell_type": "code",
   "execution_count": null,
   "id": "7a50715f",
   "metadata": {},
   "outputs": [],
   "source": [
    "pd.read_csv(\"BVNHIDONG2-review.csv\", index_col=\"Unnamed: 0\")"
   ]
  },
  {
   "cell_type": "code",
   "execution_count": null,
   "id": "863de516",
   "metadata": {},
   "outputs": [],
   "source": [
    "df[\"Review Text\"][1139]"
   ]
  },
  {
   "cell_type": "code",
   "execution_count": null,
   "id": "fa27f6cd",
   "metadata": {},
   "outputs": [],
   "source": [
    "df.info()"
   ]
  },
  {
   "cell_type": "code",
   "execution_count": null,
   "id": "ad428950",
   "metadata": {},
   "outputs": [],
   "source": [
    "# Count the occurrences of each number in the \"review_rating\" column\n",
    "rating_counts = df['Rating'].value_counts().sort_index()\n",
    "\n",
    "# Display the counts\n",
    "for rating, count in rating_counts.items():\n",
    "    print(f\"Rating {rating}: {count} occurrences\")"
   ]
  },
  {
   "cell_type": "code",
   "execution_count": null,
   "id": "9d4d823a",
   "metadata": {},
   "outputs": [],
   "source": [
    "import pandas as pd\n",
    "\n",
    "# Read the CSV file containing your dataset\n",
    "# df = pd.read_csv('dataset.csv')\n",
    "\n",
    "# Define a function to assign sentiment labels based on the \"Rating\" column\n",
    "def assign_sentiment(Rating):\n",
    "    if Rating in ['1 star', '2 stars']:\n",
    "        return \"Negative\"\n",
    "    elif Rating == '3 stars':\n",
    "        return \"Neutral\"\n",
    "    elif Rating in ['4 stars', '5 stars']:\n",
    "        return \"Positive\"\n",
    "    else:\n",
    "        return \"Unknown\"\n",
    "\n",
    "# Apply the function to create the \"sentiment\" column\n",
    "df['sentiment'] = df['Rating'].apply(assign_sentiment)\n",
    " \n",
    "# Save the updated DataFrame to a new CSV file\n",
    "df.to_csv('BVNHIDONG2.csv', index=False, encoding='utf-8-sig')"
   ]
  },
  {
   "cell_type": "code",
   "execution_count": null,
   "id": "37d04899",
   "metadata": {},
   "outputs": [],
   "source": [
    "import pandas as pd \n",
    "data = pd.read_csv('BVNHIDONG2.csv', encoding='utf-8')"
   ]
  },
  {
   "cell_type": "code",
   "execution_count": null,
   "id": "1cbe93a2",
   "metadata": {},
   "outputs": [],
   "source": [
    "# Count the occurrences of each number in the \"review_rating\" column\n",
    "rating_counts = data['sentiment'].value_counts().sort_index()\n",
    "\n",
    "# Display the counts\n",
    "for rating, count in rating_counts.items():\n",
    "    print(f\"Rating {rating}: {count} occurrences\")"
   ]
  },
  {
   "cell_type": "code",
   "execution_count": null,
   "id": "84d78fcc",
   "metadata": {},
   "outputs": [],
   "source": [
    "import matplotlib.pyplot as plt\n",
    "\n",
    "# Define colors for each rating\n",
    "colors = ['red', 'orange', 'yellow', 'green', 'blue']\n",
    "\n",
    "# Create a bar chart with colors\n",
    "plt.bar(rating_counts.index, rating_counts.values, color=colors)\n",
    "\n",
    "# Set labels and title\n",
    "plt.xlabel('Rating')\n",
    "plt.ylabel('Count')\n",
    "plt.title('Count of Ratings')\n",
    "\n",
    "# Display the chart\n",
    "plt.show()"
   ]
  },
  {
   "cell_type": "code",
   "execution_count": null,
   "id": "1addbfb3",
   "metadata": {},
   "outputs": [],
   "source": [
    "data.info()"
   ]
  }
 ],
 "metadata": {
  "kernelspec": {
   "display_name": "Python 3 (ipykernel)",
   "language": "python",
   "name": "python3"
  },
  "language_info": {
   "codemirror_mode": {
    "name": "ipython",
    "version": 3
   },
   "file_extension": ".py",
   "mimetype": "text/x-python",
   "name": "python",
   "nbconvert_exporter": "python",
   "pygments_lexer": "ipython3",
   "version": "3.10.10"
  }
 },
 "nbformat": 4,
 "nbformat_minor": 5
}
